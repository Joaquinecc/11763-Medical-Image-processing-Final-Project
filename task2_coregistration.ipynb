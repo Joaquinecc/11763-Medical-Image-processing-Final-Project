{
 "cells": [
  {
   "cell_type": "code",
   "execution_count": 1,
   "id": "ad3267b2",
   "metadata": {},
   "outputs": [],
   "source": [
    "%load_ext autoreload\n",
    "%autoreload 2\n",
    "import numpy as np\n",
    "from matplotlib import pyplot as plt\n",
    "from utils import normalize_image,load_dcm_data,plot_coregistration_views,plot_difference_map\n",
    "from scipy.ndimage import rotate, zoom, shift\n",
    "from scipy.optimize import least_squares\n",
    "import scipy\n"
   ]
  },
  {
   "cell_type": "code",
   "execution_count": 2,
   "id": "12476415",
   "metadata": {},
   "outputs": [
    {
     "data": {
      "text/plain": [
       "((188, 512, 512), (188, 512, 512))"
      ]
     },
     "execution_count": 2,
     "metadata": {},
     "output_type": "execute_result"
    }
   ],
   "source": [
    "#Load the DCMS, sorted and stacked\n",
    "\n",
    "dcm_path='RadCTTACEomics_1193-20250418T131346Z-001/RadCTTACEomics_1193/10_AP_Ax2.50mm'\n",
    "dcms_target=load_dcm_data(dcm_path)\n",
    "dcms_target.sort(key = (lambda x: float(x.SliceLocation)))\n",
    "pixelarray_target = np.stack([x.pixel_array for x in dcms_target], axis=0)\n",
    "pixelarray_target=normalize_image(pixelarray_target)\n",
    "\n",
    "dcm_path='RadCTTACEomics_1193-20250418T131346Z-001/RadCTTACEomics_1193/20_PP_Ax2.50mm'\n",
    "dcms_moving=load_dcm_data(dcm_path)\n",
    "dcms_moving.sort(key = (lambda x: float(x.SliceLocation)))\n",
    "pixelarray_moving = np.stack([x.pixel_array for x in dcms_moving], axis=0)\n",
    "pixelarray_moving=normalize_image(pixelarray_moving)\n",
    "pixelarray_target.shape, pixelarray_moving.shape"
   ]
  },
  {
   "cell_type": "markdown",
   "id": "ffe8bf07",
   "metadata": {},
   "source": [
    "For image coregistration, it is essential that both volumes have matching dimensions. One common solution is to crop the larger volume to match the size of the smaller one."
   ]
  },
  {
   "cell_type": "code",
   "execution_count": 3,
   "id": "e2e498f4",
   "metadata": {},
   "outputs": [
    {
     "data": {
      "text/plain": [
       "((188, 512, 512), (188, 512, 512))"
      ]
     },
     "execution_count": 3,
     "metadata": {},
     "output_type": "execute_result"
    }
   ],
   "source": [
    "# Crop the target (reference) to match the moving shape in depth (Z-axis)\n",
    "depth_moving = pixelarray_moving.shape[0]\n",
    "pixelarray_target = pixelarray_target[:depth_moving, :, :]\n",
    "pixelarray_target.shape, pixelarray_moving.shape"
   ]
  },
  {
   "cell_type": "markdown",
   "id": "60d00f39",
   "metadata": {},
   "source": [
    "## PLOT\n",
    "From just plotting the image , is hard to see a difference between the moving and fixed targed."
   ]
  },
  {
   "cell_type": "code",
   "execution_count": null,
   "id": "bbe23314",
   "metadata": {},
   "outputs": [],
   "source": [
    "plot_coregistration_views(pixelarray_target, pixelarray_moving)"
   ]
  },
  {
   "cell_type": "markdown",
   "id": "180e0ea2",
   "metadata": {},
   "source": [
    "A more effective approach involves analyzing the voxel-wise differences between the volumes. The results indicate that the most significant errors are concentrated along the borders, suggesting that the primary misalignments occur in these peripheral regions."
   ]
  },
  {
   "cell_type": "code",
   "execution_count": null,
   "id": "74c7c56e",
   "metadata": {},
   "outputs": [],
   "source": [
    "plot_difference_map(pixelarray_target,pixelarray_moving)\n"
   ]
  },
  {
   "cell_type": "markdown",
   "id": "4f2360b7",
   "metadata": {},
   "source": [
    "## Apply Corregistration\n",
    "In this step, we apply a transformation that includes translation, rotation, and scaling to align the moving volume to the target. To estimate the optimal transformation parameters, we use the least squares optimization method, with the Root Mean Squared Error (RMSE) as the objective (error) function.\n"
   ]
  },
  {
   "cell_type": "markdown",
   "id": "cd09e68a",
   "metadata": {},
   "source": [
    "### Utils\n",
    "Frist we start by defining a error function to minimize in which in this case it will be Root mean square deviation. In this case we select RMSE We use RMSE (Root Mean Squared Error) as the loss function because it provides a simple and effective measure of voxel-wise similarity between the fixed and moving volumes. It quantifies the average squared difference in intensity values, penalizing larger mismatches more heavily, which helps guide the optimization toward better alignment. Additionally, RMSE is fully differentiable, making it suitable for use in gradient-based optimization methods like least squares."
   ]
  },
  {
   "cell_type": "code",
   "execution_count": 4,
   "id": "97a9806c",
   "metadata": {},
   "outputs": [
    {
     "name": "stdout",
     "output_type": "stream",
     "text": [
      "Initial error  411.3909542329376\n"
     ]
    }
   ],
   "source": [
    "\n",
    "def rmse_loss(fixed, moving):\n",
    "    \"\"\"Compute Root Mean Squared Error between two volumes.\"\"\"\n",
    "    if fixed.shape != moving.shape:\n",
    "        raise ValueError(\"Shape mismatch: fixed and moving volumes must have the same shape.\")\n",
    "    return np.sqrt(np.sum((fixed - moving) ** 2))\n",
    "\n",
    "initial_error= rmse_loss(pixelarray_target,pixelarray_moving)\n",
    "print(\"Initial error \", initial_error)"
   ]
  },
  {
   "cell_type": "code",
   "execution_count": 5,
   "id": "0648368f",
   "metadata": {},
   "outputs": [],
   "source": [
    "def mse(ref_img, inp_img):\n",
    "    \"\"\"\n",
    "    Calculates the MSE between two images.\n",
    "    \"\"\"\n",
    "    return np.mean((ref_img-inp_img)**2)\n"
   ]
  },
  {
   "cell_type": "markdown",
   "id": "b968207e",
   "metadata": {},
   "source": [
    "We also define some util function to apply transformation and to get an initial parameter estimate"
   ]
  },
  {
   "cell_type": "code",
   "execution_count": 9,
   "id": "868c95b2",
   "metadata": {},
   "outputs": [],
   "source": [
    "\n",
    "def find_volume_centroid(volume: np.ndarray):\n",
    "    \"\"\"Compute centroid of non-zero voxels in a 3D volume.\"\"\"\n",
    "    nonzero = np.argwhere(volume > 0)\n",
    "    if nonzero.size == 0:\n",
    "        raise ValueError(\"Volume is empty or has no non-zero voxels.\")\n",
    "    return np.mean(nonzero, axis=0)\n",
    "\n",
    "def rotate_volume_all_axes(volume, angles, order=1):\n",
    "    \"\"\"Apply sequential 3D rotation around each principal axis.\"\"\"\n",
    "    axes = [(1, 2), (0, 2), (0, 1)]  # axial, coronal, sagittal\n",
    "    for angle, axis in zip(angles, axes):\n",
    "        volume = rotate(volume, angle=angle, axes=axis, reshape=False, order=order)\n",
    "    return volume\n",
    "\n",
    "def apply_transform(volume, translation, rotation_angles, zoom_factors):\n",
    "    \"\"\"Apply shift, rotation, and zoom to a volume.\"\"\"\n",
    "    transformed = shift(volume, translation, order=1)\n",
    "    transformed = rotate_volume_all_axes(transformed, rotation_angles, order=1)\n",
    "    # transformed = zoom(transformed, zoom_factors, order=1)\n",
    "    return transformed\n",
    "def apply_transform_rigid(volume, translation, rotation_angles):\n",
    "    \"\"\"Apply shift, rotation, and zoom to a volume.\"\"\"\n",
    "    transformed = shift(volume, translation, order=1)\n",
    "    # transformed = np.roll(volume, np.array(translation).astype(int), axis=(0, 1, 2))\n",
    "    transformed = rotate_volume_all_axes(transformed, rotation_angles, order=1)\n",
    "    # transformed = zoom(transformed, zoom_factors, order=1)\n",
    "    return transformed\n"
   ]
  },
  {
   "cell_type": "markdown",
   "id": "fbb1dd71",
   "metadata": {},
   "source": [
    "We firts get the center of volume to get an estimate on the translation, rotation and scale will be empty at the beging"
   ]
  },
  {
   "cell_type": "code",
   "execution_count": null,
   "id": "8c59763a",
   "metadata": {},
   "outputs": [
    {
     "name": "stdout",
     "output_type": "stream",
     "text": [
      "   Iteration     Total nfev        Cost      Cost reduction    Step norm     Optimality   \n",
      "       0              1         1.7408e-03                                    4.09e+02    \n",
      "       1              2         1.2183e-03      5.22e-04       4.22e+00       4.91e-04    \n",
      "       2              3         8.0803e-04      4.10e-04       1.05e+00       5.49e-04    \n",
      "       3              5         3.2252e-04      4.86e-04       5.27e-01       6.07e-04    \n",
      "       4              7         1.0787e-04      2.15e-04       2.63e-01       4.85e-04    \n",
      "       5              9         2.6830e-05      8.10e-05       1.32e-01       2.56e-04    \n",
      "       6             11         1.6640e-05      1.02e-05       6.59e-02       1.50e-04    \n",
      "       7             13         1.4332e-05      2.31e-06       1.65e-02       7.58e-05    \n",
      "       8             16         1.4265e-05      6.72e-08       2.06e-03       3.06e-05    \n",
      "       9             18         1.4252e-05      1.29e-08       5.15e-04       1.69e-05    \n",
      "      10             19         1.4242e-05      9.40e-09       5.15e-04       1.83e-05    \n",
      "      11             20         1.4222e-05      2.03e-08       1.03e-03       1.93e-05    \n",
      "      12             21         1.4199e-05      2.31e-08       2.06e-03       2.81e-05    \n",
      "      13             23         1.4186e-05      1.28e-08       5.15e-04       1.23e-05    \n",
      "      14             24         1.4180e-05      5.90e-09       5.15e-04       1.09e-05    \n",
      "      15             25         1.4176e-05      3.79e-09       1.03e-03       1.67e-05    \n",
      "      16             26         1.4170e-05      5.98e-09       1.03e-03       2.50e-05    \n",
      "      17             27         1.4164e-05      6.27e-09       2.57e-04       1.52e-05    \n",
      "      18             28         1.4157e-05      7.31e-09       5.15e-04       1.88e-05    \n",
      "      19             29         1.4147e-05      9.60e-09       5.15e-04       1.85e-05    \n",
      "      20             30         1.4130e-05      1.68e-08       1.03e-03       1.57e-05    \n",
      "      21             31         1.4124e-05      5.96e-09       2.06e-03       4.17e-05    \n",
      "      22             32         1.4106e-05      1.87e-08       5.15e-04       1.46e-05    \n",
      "      23             33         1.4101e-05      5.01e-09       5.15e-04       9.82e-06    \n",
      "      24             34         1.4095e-05      5.38e-09       5.15e-04       1.22e-05    \n"
     ]
    }
   ],
   "source": [
    "centroid_moving = find_volume_centroid(pixelarray_moving)\n",
    "centroid_target = find_volume_centroid(pixelarray_target)\n",
    "initial_translation = centroid_moving - centroid_target  # difference between centers\n",
    "\n",
    "# Initial guess: [dx, dy, dz, rx, ry, rz, zx, zy, zz]\n",
    "initial_params = np.concatenate([\n",
    "    initial_translation,              # translation estimate\n",
    "    [ np.pi, 0, 0   ]      # In radians                 # no initial rotation\n",
    "    # [1.0, 1.0, 1.0]                   # no scaling\n",
    "])\n",
    "def function_to_minimize(params):\n",
    "    translation = params[0:3]\n",
    "    rotation_angles = params[3:6]*(180/np.pi) \n",
    "    # zoom_factors = params[6:9]\n",
    "    transformed = apply_transform_rigid(pixelarray_moving, translation, rotation_angles)\n",
    "    return mse(pixelarray_target, transformed)\n",
    "\n",
    "result = least_squares(\n",
    "    function_to_minimize,\n",
    "    x0=initial_params,\n",
    "    verbose=2\n",
    ")\n",
    "result.x"
   ]
  },
  {
   "cell_type": "markdown",
   "id": "08037e17",
   "metadata": {},
   "source": [
    "We define the fuction to minimize with least square error"
   ]
  },
  {
   "cell_type": "code",
   "execution_count": null,
   "id": "787d4fed",
   "metadata": {},
   "outputs": [],
   "source": [
    "def function_to_minimize(params):\n",
    "    translation = params[0:3]\n",
    "    rotation_angles = params[3:6]\n",
    "    zoom_factors = params[6:9]\n",
    "    transformed = apply_transform(pixelarray_moving, translation, rotation_angles, zoom_factors)\n",
    "    return rmse_loss(pixelarray_target, transformed)\n",
    "\n",
    "result = least_squares(function_to_minimize, x0=initial_params, verbose=1)\n"
   ]
  },
  {
   "cell_type": "code",
   "execution_count": null,
   "id": "fe7fce18",
   "metadata": {},
   "outputs": [],
   "source": [
    "final_transform = apply_transform(pixelarray_moving, \n",
    "                                      translation=result.x[0:3],\n",
    "                                      rotation_angles=result.x[3:6],\n",
    "                                      zoom_factors=result.x[6:9])"
   ]
  },
  {
   "cell_type": "code",
   "execution_count": null,
   "id": "7763c7d3",
   "metadata": {},
   "outputs": [],
   "source": [
    "plot_difference_map(pixelarray_target,final_transform)"
   ]
  }
 ],
 "metadata": {
  "kernelspec": {
   "display_name": "hope",
   "language": "python",
   "name": "python3"
  },
  "language_info": {
   "codemirror_mode": {
    "name": "ipython",
    "version": 3
   },
   "file_extension": ".py",
   "mimetype": "text/x-python",
   "name": "python",
   "nbconvert_exporter": "python",
   "pygments_lexer": "ipython3",
   "version": "3.10.15"
  }
 },
 "nbformat": 4,
 "nbformat_minor": 5
}
